{
 "cells": [
  {
   "cell_type": "markdown",
   "metadata": {},
   "source": [
    "# Package import "
   ]
  },
  {
   "cell_type": "code",
   "execution_count": 1,
   "metadata": {},
   "outputs": [],
   "source": [
    "# Ne pas oublier d'executer dans le shell avant de lancer python :\n",
    "# source /users/Enseignants/piwowarski/venv/amal/3.7/bin/activate\n",
    "# N.B: commande pour lancer tensorboard: tensorboard --logdir=path/to/log-directory\n",
    "\n",
    "import torch\n",
    "from torch.autograd import Function\n",
    "from torch.autograd import gradcheck\n",
    "from datamaestro import prepare_dataset \n",
    "from torch.utils.tensorboard import SummaryWriter\n",
    "import ipdb"
   ]
  },
  {
   "cell_type": "markdown",
   "metadata": {},
   "source": [
    "# Functions "
   ]
  },
  {
   "cell_type": "code",
   "execution_count": 2,
   "metadata": {},
   "outputs": [
    {
     "name": "stdout",
     "output_type": "stream",
     "text": [
      "Test of gradient for the linear function:  True\n",
      "the loss is:  tensor(1.5230, dtype=torch.float64, grad_fn=<MeanBackward0>)\n"
     ]
    }
   ],
   "source": [
    "class Context:\n",
    "    \"\"\"Very simplified context object\"\"\"\n",
    "    def __init__(self):\n",
    "        self._saved_tensors = ()\n",
    "    def save_for_backward(self, *args):\n",
    "        self._saved_tensors = args\n",
    "    @property\n",
    "    def saved_tensors(self):\n",
    "        return self._saved_tensors\n",
    "\n",
    "\n",
    "class linear(Function):\n",
    "##Toute fonction a:\n",
    "## une méthode forward pour calculer l'image de variables et paramètres donnés\n",
    "## une méthode backward pour renvoyer son gradient par rapport à ses variables/paramètres\n",
    "    @staticmethod\n",
    "    #a static method can be called without referring to an object.     \n",
    "    def forward(ctx,x,w,b):\n",
    "        ctx.save_for_backward(x,w,b)\n",
    "        return w*x+b\n",
    "\n",
    "    @staticmethod\n",
    "    def backward(ctx,grad_output):\n",
    "        ## prend comme argument le gradient de l'étage d'au dessus\n",
    "        x,w,b = ctx.saved_tensors\n",
    "        dL_dx=grad_output*w\n",
    "        dL_dw=grad_output*x\n",
    "        dL_db=grad_output\n",
    "        return dL_dx,dL_dw,dL_db\n",
    "    \n",
    "class MSE(Function):\n",
    "    @staticmethod\n",
    "    def forward(ctx,y,yhat):\n",
    "        ctx.save_for_backward(y,yhat)\n",
    "        return torch.mean((y-yhat)**2)\n",
    "    @staticmethod\n",
    "    def backward(ctx,grad_output=1):\n",
    "        y,yhat=ctx.saved_tensors\n",
    "        return 2*(y-yhat)*grad_output\n",
    "\n",
    "x = torch.randn(10,5,requires_grad=True,dtype=torch.float64)\n",
    "y=1\n",
    "\n",
    "w = torch.randn(5,requires_grad=True,dtype=torch.float64)\n",
    "b=torch.zeros(1,requires_grad=True, dtype=torch.float64)\n",
    "\n",
    "## Pour utiliser la fonction \n",
    "f = linear()\n",
    "ctx = Context()\n",
    "output = f.forward(ctx,x,w,b)\n",
    "f_grad = f.backward(ctx,y)\n",
    "\n",
    "## Pour tester le gradient: \n",
    "## 1. Appliquer la méthode apply héritée de la classe Function pour créer une fonction\n",
    "## 2. appliquer la fonction autograd_check à la fonction avec des paramètres\n",
    "f_check = f.apply\n",
    "\n",
    "print(\"Test of gradient for the linear function: \",torch.autograd.gradcheck(f_check,(x,w,b)))\n",
    "#return True\n",
    "\n",
    "##Test de la fonction MSE\n",
    "yhat=output\n",
    "mse=MSE()\n",
    "loss=mse.forward(ctx,y,yhat)\n",
    "print(\"the loss is: \",loss)\n",
    "mse_grad=mse.backward(ctx)\n"
   ]
  },
  {
   "cell_type": "markdown",
   "metadata": {},
   "source": [
    "# Training "
   ]
  },
  {
   "cell_type": "markdown",
   "metadata": {},
   "source": [
    "## SGD descent"
   ]
  },
  {
   "cell_type": "code",
   "execution_count": 3,
   "metadata": {},
   "outputs": [],
   "source": [
    "def SGD_descent(x,y,learning_rate,epochs=100):\n",
    "    f=linear()\n",
    "    mse=MSE()\n",
    "    w = torch.randn(x.shape[1],requires_grad=True,dtype=torch.double)\n",
    "    b = torch.zeros(1,dtype=torch.double)\n",
    "    writer = SummaryWriter()\n",
    "    print(\"SGD descent\")\n",
    "    for i in range(epochs):\n",
    "        # Sample selection: one row of the sample selected randomly         \n",
    "        index=torch.randint(0,len(x),size=(1,))\n",
    "        x_i=torch.DoubleTensor(x[index,:])\n",
    "        y_i=torch.DoubleTensor(y[index,:])\n",
    "        #Context initialization\n",
    "        ctx_f=Context()\n",
    "        ctx_mse=Context()\n",
    "        #Gradient calculation\n",
    "        output=f.forward(ctx_f,x_i,w,b)\n",
    "        loss=mse.forward(ctx_mse,output,y_i)\n",
    "        mse_grad=mse.backward(ctx_mse)\n",
    "        df_dx,df_dw,df_db=f.backward(ctx_f,mse_grad)\n",
    "        #Parameters update\n",
    "        w=w-learning_rate*df_dw\n",
    "        b=b-learning_rate*df_db\n",
    "        #Add loss to writer\n",
    "        if i%10==0:\n",
    "            print(\"Epoch %d\"%i)\n",
    "        writer.add_scalar('SGD_Loss', loss, i)\n",
    "    return None"
   ]
  },
  {
   "cell_type": "markdown",
   "metadata": {},
   "source": [
    "## Batch descent "
   ]
  },
  {
   "cell_type": "code",
   "execution_count": 4,
   "metadata": {},
   "outputs": [],
   "source": [
    "def Batch_descent(x,y,learning_rate,epochs=100):\n",
    "    f=linear()\n",
    "    mse=MSE()\n",
    "    w = torch.randn(x.shape[1],requires_grad=True,dtype=torch.double)\n",
    "    b = torch.zeros(1,requires_grad=True, dtype=torch.double)\n",
    "    writer = SummaryWriter()\n",
    "    print(\"Batch descent\")\n",
    "    for i in range(epochs):\n",
    "        # Sample selection: the whole batch is considered\n",
    "        for j in range(len(x)):\n",
    "            x_j=torch.DoubleTensor(x[j,:])\n",
    "            y_j=torch.DoubleTensor(y[j,:])\n",
    "            #Context initialization\n",
    "            ctx_f=Context()\n",
    "            ctx_mse=Context()\n",
    "            #Gradient calculation\n",
    "            output=f.forward(ctx_f,x_j,w,b)\n",
    "            loss=mse.forward(ctx_mse,output,y_j)\n",
    "            mse_grad=mse.backward(ctx_mse)\n",
    "            df_dx,df_dw,df_db=f.backward(ctx_f,mse_grad)\n",
    "        #Parameters update\n",
    "        w=w-learning_rate*df_dw\n",
    "        b=b-learning_rate*df_db\n",
    "        #Add loss to writer\n",
    "        if i%10==0:\n",
    "            print(\"Epoch %d\"%i)\n",
    "        writer.add_scalar('Batch_Loss', loss, i)\n",
    "    return None"
   ]
  },
  {
   "cell_type": "markdown",
   "metadata": {},
   "source": [
    "## Mini-batch "
   ]
  },
  {
   "cell_type": "code",
   "execution_count": 5,
   "metadata": {},
   "outputs": [],
   "source": [
    "def MiniBatch_descent(x,y,learning_rate,epochs=100,batch_size=1):\n",
    "    f=linear()\n",
    "    mse=MSE()\n",
    "    w = torch.randn(1,x.shape[1],requires_grad=True,dtype=torch.double)\n",
    "    b = torch.zeros(1,dtype=torch.double)\n",
    "    writer = SummaryWriter()\n",
    "    print(\"MiniBatch descent\")\n",
    "    for i in range(epochs):\n",
    "        # Sample selection: batch_size rows of the sample selected randomly         \n",
    "        index=torch.randint(0,len(x),size=(batch_size,))\n",
    "        for j in index:\n",
    "            x_j=torch.DoubleTensor(x[j,:])\n",
    "            y_j=torch.DoubleTensor(y[j,:])\n",
    "            #Context initialization\n",
    "            ctx_f=Context()\n",
    "            ctx_mse=Context()\n",
    "            #Gradient calculation\n",
    "            output=f.forward(ctx_f,x_j,w,b)\n",
    "            loss=mse.forward(ctx_mse,output,y_j)\n",
    "            mse_grad=mse.backward(ctx_mse)\n",
    "            df_dx,df_dw,df_db=f.backward(ctx_f,mse_grad)\n",
    "        #Parameters update\n",
    "        w=w-learning_rate*df_dw\n",
    "        b=b-learning_rate*df_db\n",
    "        #Add loss to writer \n",
    "        if i%10==0:\n",
    "            print(\"Epoch %d\"%i)\n",
    "        writer.add_scalar('Minibatch_Loss', loss, i)\n",
    "    return None"
   ]
  },
  {
   "cell_type": "markdown",
   "metadata": {},
   "source": [
    "## Tests "
   ]
  },
  {
   "cell_type": "code",
   "execution_count": 6,
   "metadata": {},
   "outputs": [],
   "source": [
    "n=10\n",
    "x=torch.randn(n,5,requires_grad=True,dtype=torch.double)\n",
    "y=torch.randn(n,1,dtype=torch.double)\n",
    "\n",
    "epochs=100\n",
    "learning_rate=0.01\n",
    "batch_size=int(n/2)\n",
    "\n",
    "# SGD_descent(x,y,learning_rate,epochs)\n",
    "# Batch_descent(x,y,learning_rate,epochs)\n",
    "# MiniBatch_descent(x,y,learning_rate,epochs,batch_size)\n"
   ]
  },
  {
   "cell_type": "markdown",
   "metadata": {},
   "source": [
    "# Boston dataset "
   ]
  },
  {
   "cell_type": "code",
   "execution_count": 11,
   "metadata": {},
   "outputs": [
    {
     "name": "stdout",
     "output_type": "stream",
     "text": [
      "fields: ['CRIM', 'ZN', 'INDUS', 'CHAS', 'NOX', 'RM', 'AGE', 'DIS', 'RAD', 'TAX', 'PTRATIO', 'B', 'LSTAT', 'MEDV']\n",
      "dataset [[6.3200e-03 1.8000e+01 2.3100e+00 ... 3.9690e+02 4.9800e+00 2.4000e+01]\n",
      " [2.7310e-02 0.0000e+00 7.0700e+00 ... 3.9690e+02 9.1400e+00 2.1600e+01]\n",
      " [2.7290e-02 0.0000e+00 7.0700e+00 ... 3.9283e+02 4.0300e+00 3.4700e+01]\n",
      " ...\n",
      " [6.0760e-02 0.0000e+00 1.1930e+01 ... 3.9690e+02 5.6400e+00 2.3900e+01]\n",
      " [1.0959e-01 0.0000e+00 1.1930e+01 ... 3.9345e+02 6.4800e+00 2.2000e+01]\n",
      " [4.7410e-02 0.0000e+00 1.1930e+01 ... 3.9690e+02 7.8800e+00 1.1900e+01]]\n"
     ]
    }
   ],
   "source": [
    "## Téléchargement du dataset Boston\n",
    "ds=prepare_dataset(\"edu.uci.boston\")\n",
    "fields, data =ds.files.data() \n",
    "\n",
    "print(\"fields:\",fields)\n",
    "print(\"dataset\",data)\n",
    "\n",
    "x=torch.DoubleTensor(data[:,:-1])\n",
    "y=torch.DoubleTensor(data[:,-1]).reshape(len(x),1)\n",
    "\n",
    "def standardize(z):\n",
    "    mu = z.mean(dim=1, keepdim=True)\n",
    "    std = z.std(dim=1, keepdim=True)\n",
    "    return (z - mu) / std\n",
    "\n",
    "x=standardize(x)\n",
    "y=standardize(y)"
   ]
  },
  {
   "cell_type": "code",
   "execution_count": 12,
   "metadata": {},
   "outputs": [
    {
     "name": "stdout",
     "output_type": "stream",
     "text": [
      "SGD descent\n",
      "Epoch 0\n",
      "Epoch 10\n",
      "Epoch 20\n",
      "Epoch 30\n",
      "Epoch 40\n",
      "Epoch 50\n",
      "Epoch 60\n",
      "Epoch 70\n",
      "Epoch 80\n",
      "Epoch 90\n",
      "Batch descent\n",
      "Epoch 0\n",
      "Epoch 10\n",
      "Epoch 20\n",
      "Epoch 30\n",
      "Epoch 40\n",
      "Epoch 50\n",
      "Epoch 60\n",
      "Epoch 70\n",
      "Epoch 80\n",
      "Epoch 90\n",
      "MiniBatch descent\n",
      "Epoch 0\n",
      "Epoch 10\n",
      "Epoch 20\n",
      "Epoch 30\n",
      "Epoch 40\n",
      "Epoch 50\n",
      "Epoch 60\n",
      "Epoch 70\n",
      "Epoch 80\n",
      "Epoch 90\n"
     ]
    }
   ],
   "source": [
    "epochs=100\n",
    "learning_rate=0.0001\n",
    "batch_size=int(n/10)\n",
    "\n",
    "SGD_descent(x,y,learning_rate,epochs)\n",
    "Batch_descent(x,y,learning_rate,epochs)\n",
    "MiniBatch_descent(x,y,learning_rate,epochs,batch_size)"
   ]
  }
 ],
 "metadata": {
  "kernelspec": {
   "display_name": "Python 3",
   "language": "python",
   "name": "python3"
  },
  "language_info": {
   "codemirror_mode": {
    "name": "ipython",
    "version": 3
   },
   "file_extension": ".py",
   "mimetype": "text/x-python",
   "name": "python",
   "nbconvert_exporter": "python",
   "pygments_lexer": "ipython3",
   "version": "3.7.3"
  }
 },
 "nbformat": 4,
 "nbformat_minor": 2
}
