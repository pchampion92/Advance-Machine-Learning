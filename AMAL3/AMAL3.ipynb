{
 "cells": [
  {
   "cell_type": "markdown",
   "metadata": {},
   "source": [
    "Paul Champion\n",
    "M2A\n",
    "2019-2020"
   ]
  },
  {
   "cell_type": "markdown",
   "metadata": {},
   "source": [
    "# Imports "
   ]
  },
  {
   "cell_type": "markdown",
   "metadata": {},
   "source": [
    "## Package imports "
   ]
  },
  {
   "cell_type": "code",
   "execution_count": 1,
   "metadata": {},
   "outputs": [],
   "source": [
    "import torchvision\n",
    "from torch.utils.tensorboard import SummaryWriter\n",
    "from matplotlib import pyplot as plt\n",
    "import torch\n",
    "from datamaestro import prepare_dataset \n",
    "from mlxtend.data import loadlocal_mnist\n",
    "import os\n",
    "from pathlib import Path"
   ]
  },
  {
   "cell_type": "markdown",
   "metadata": {},
   "source": [
    "## Data imports "
   ]
  },
  {
   "cell_type": "code",
   "execution_count": 2,
   "metadata": {},
   "outputs": [],
   "source": [
    "train_images, train_labels = loadlocal_mnist(\n",
    "        images_path='train-images.idx3-ubyte', \n",
    "        labels_path='train-labels.idx1-ubyte')"
   ]
  },
  {
   "cell_type": "code",
   "execution_count": 3,
   "metadata": {},
   "outputs": [],
   "source": [
    "test_images, test_labels = loadlocal_mnist(\n",
    "        images_path='t10k-images.idx3-ubyte', \n",
    "        labels_path='t10k-labels.idx1-ubyte')"
   ]
  },
  {
   "cell_type": "markdown",
   "metadata": {},
   "source": [
    "### Data vizualisation"
   ]
  },
  {
   "cell_type": "code",
   "execution_count": 4,
   "metadata": {},
   "outputs": [
    {
     "data": {
      "image/png": "[encoded data removed]",
      "text/plain": [
       "<Figure size 432x288 with 1 Axes>"
      ]
     },
     "metadata": {
      "needs_background": "light"
     },
     "output_type": "display_data"
    }
   ],
   "source": [
    "plt.imshow(train_images[0].reshape((28, 28)), cmap='gray')\n",
    "plt.show()"
   ]
  },
  {
   "cell_type": "markdown",
   "metadata": {},
   "source": [
    "# Dataset et Dataloader "
   ]
  },
  {
   "cell_type": "code",
   "execution_count": 5,
   "metadata": {},
   "outputs": [],
   "source": [
    "class MonDataset(torch.utils.data.Dataset):\n",
    "    \n",
    "    def __init__(self, x, y):\n",
    "        self.x = torch.from_numpy(x.astype(float)).float()\n",
    "        self.y = torch.from_numpy(y.astype(float)).float()\n",
    "    \n",
    "    def __getitem__(self, index): \n",
    "        return self.x[index], self.y[index] \n",
    "    \n",
    "    def __len__(self):\n",
    "        return len(self.x)"
   ]
  },
  {
   "cell_type": "code",
   "execution_count": 6,
   "metadata": {},
   "outputs": [],
   "source": [
    "dataset = MonDataset(train_images, train_labels)\n",
    "data = torch.utils.data.DataLoader(dataset, \n",
    "                                   shuffle=True , batch_size=50) "
   ]
  },
  {
   "cell_type": "markdown",
   "metadata": {},
   "source": [
    "# Implémentation d'un autoencodeur "
   ]
  },
  {
   "cell_type": "code",
   "execution_count": 7,
   "metadata": {},
   "outputs": [],
   "source": [
    "class Autoencodeur(torch.nn.Module):\n",
    "    \n",
    "    def __init__(self, shape, dim_compression):\n",
    "        super(Autoencodeur, self).__init__()\n",
    "        self.lin1 = torch.nn.Linear(shape, dim_compression)\n",
    "        self.lin2 = torch.nn.Linear(dim_compression, shape)\n",
    "        self.lin2.weight = torch.nn.Parameter(self.lin1.weight.T)\n",
    "    \n",
    "    def forward(self, train_x):\n",
    "        encoder = (self.lin1(train_x))\n",
    "        #encoder = torch.nn.functional.relu(self.lin1(train_x))\n",
    "        decoder = torch.sigmoid(self.lin2(encoder))\n",
    "        return decoder\n",
    "                      "
   ]
  },
  {
   "cell_type": "code",
   "execution_count": null,
   "metadata": {},
   "outputs": [
    {
     "name": "stdout",
     "output_type": "stream",
     "text": [
      "Epoch  1\n",
      "Epoch  2\n",
      "Epoch  3\n",
      "Epoch  4\n",
      "Epoch  5\n",
      "Epoch  6\n",
      "Epoch  7\n",
      "Epoch  8\n",
      "Epoch  9\n",
      "Epoch  10\n",
      "Epoch  11\n"
     ]
    }
   ],
   "source": [
    "nb_epoch = 30\n",
    "learning_rate=1e-2\n",
    "auto = Autoencodeur(784, 30)\n",
    "\n",
    "writer = SummaryWriter()\n",
    "optim = torch.optim.SGD(params=[auto.lin1.weight, auto.lin1.bias, auto.lin2.bias],lr=learning_rate)\n",
    "optim.zero_grad()\n",
    "loss = torch.nn.BCELoss()\n",
    "# Reinitialisation du gradient\n",
    "n_iter = 0\n",
    "\n",
    "for i in range(nb_epoch):\n",
    "    print('Epoch ',i+1)\n",
    "    for x,y in data: \n",
    "     #   print(torch.max(auto.forward(x)))\n",
    "        n_iter += 1\n",
    "        output = loss(auto.forward(x), x/255) \n",
    "        writer.add_scalar('Loss/train', output, n_iter)\n",
    "        output.backward()\n",
    "        optim.step()\n",
    "        optim.zero_grad()"
   ]
  },
  {
   "cell_type": "markdown",
   "metadata": {},
   "source": [
    "### Visualization of results "
   ]
  },
  {
   "cell_type": "code",
   "execution_count": null,
   "metadata": {},
   "outputs": [],
   "source": [
    "n_vizualize=5\n",
    "\n",
    "i = 0\n",
    "for x,y in data:\n",
    "    xhat = auto.forward(x)\n",
    "    plt.imshow(xhat[0].detach().numpy().reshape((28, 28)), cmap='gray')\n",
    "    plt.show()\n",
    "    plt.imshow(x[0].detach().numpy().reshape((28, 28)), cmap='gray')\n",
    "    plt.show()\n",
    "    \n",
    "    i += 1\n",
    "    if i == 5:\n",
    "        break"
   ]
  },
  {
   "cell_type": "markdown",
   "metadata": {},
   "source": [
    "# GPU, Checkpointing"
   ]
  },
  {
   "cell_type": "code",
   "execution_count": null,
   "metadata": {},
   "outputs": [],
   "source": [
    "device=torch.device('cuda' if torch.cuda.is_available() else 'cpu')"
   ]
  },
  {
   "cell_type": "code",
   "execution_count": null,
   "metadata": {},
   "outputs": [],
   "source": [
    "class State:\n",
    "    def __init__(self,model,optim):\n",
    "        self.model=model\n",
    "        self.optim=optim\n",
    "        self.epoch=0\n",
    "        self.iteration=0"
   ]
  },
  {
   "cell_type": "code",
   "execution_count": null,
   "metadata": {},
   "outputs": [],
   "source": [
    "if not(os.path.exists(\"savefile\")):\n",
    "    savefile=os.mknod(\"savefile\")\n"
   ]
  },
  {
   "cell_type": "code",
   "execution_count": null,
   "metadata": {},
   "outputs": [],
   "source": [
    "savefile=Path(\"savefile\")"
   ]
  },
  {
   "cell_type": "code",
   "execution_count": null,
   "metadata": {},
   "outputs": [],
   "source": [
    "learning_rate=1e-2\n",
    "nb_epochs=10\n",
    "\n",
    "if savefile.is_file() and os.path.getsize(savefile)>0:\n",
    "#On ne récupère les données uniquemenet si le fichier unique et est non vide\n",
    "    with savefile.open(\"rb\") as fp:\n",
    "        state=torch.load(fp)\n",
    "else:\n",
    "    autoencoder=Autoencodeur(784, 30)\n",
    "    autoencoder=autoencoder.to(device)\n",
    "    optim=torch.optim.SGD(params=[autoencoder.lin1.weight,autoencoder.lin1.bias,autoencoder.lin2.bias],lr=learning_rate)\n",
    "    state=State(autoencoder,optim)\n",
    "    "
   ]
  },
  {
   "cell_type": "code",
   "execution_count": null,
   "metadata": {},
   "outputs": [],
   "source": [
    "for epoch in range(state.epoch,nb_epochs):\n",
    "    for x,y in data:\n",
    "        state.optim.zero_grad()\n",
    "        x=x.to(device)\n",
    "        xhat=autoencoder(x)\n",
    "        l=loss(xhat,x)\n",
    "        l.backward()\n",
    "        state.optim.step()\n",
    "        state.iteration+=1\n",
    "    if epoch %1==0:\n",
    "        print(\"Epoch %d\"%epoch)\n",
    "    with savefile.open(\"wb\") as fp:\n",
    "        state.epoch+=1\n",
    "        torch.save(state,fp)\n",
    "        \n"
   ]
  }
 ],
 "metadata": {
  "kernelspec": {
   "display_name": "Python 3",
   "language": "python",
   "name": "python3"
  },
  "language_info": {
   "codemirror_mode": {
    "name": "ipython",
    "version": 3
   },
   "file_extension": ".py",
   "mimetype": "text/x-python",
   "name": "python",
   "nbconvert_exporter": "python",
   "pygments_lexer": "ipython3",
   "version": "3.6.8"
  }
 },
 "nbformat": 4,
 "nbformat_minor": 4
}
