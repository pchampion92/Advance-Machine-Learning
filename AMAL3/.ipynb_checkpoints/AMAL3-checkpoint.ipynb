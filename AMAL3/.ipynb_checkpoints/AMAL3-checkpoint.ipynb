{
 "cells": [
  {
   "cell_type": "markdown",
   "metadata": {},
   "source": [
    "Paul Champion\n",
    "M2A\n",
    "2019-2020"
   ]
  },
  {
   "cell_type": "markdown",
   "metadata": {},
   "source": [
    "# Imports "
   ]
  },
  {
   "cell_type": "markdown",
   "metadata": {},
   "source": [
    "## Package imports "
   ]
  },
  {
   "cell_type": "code",
   "execution_count": 1,
   "metadata": {},
   "outputs": [],
   "source": [
    "import torchvision\n",
    "from torch.utils.tensorboard import SummaryWriter\n",
    "from matplotlib import pyplot as plt\n",
    "import torch\n",
    "from datamaestro import prepare_dataset \n",
    "from mlxtend.data import loadlocal_mnist"
   ]
  },
  {
   "cell_type": "markdown",
   "metadata": {},
   "source": [
    "## Data imports "
   ]
  },
  {
   "cell_type": "code",
   "execution_count": 2,
   "metadata": {},
   "outputs": [],
   "source": [
    "train_images, train_labels = loadlocal_mnist(\n",
    "        images_path='train-images.idx3-ubyte', \n",
    "        labels_path='train-labels.idx1-ubyte')"
   ]
  },
  {
   "cell_type": "code",
   "execution_count": 3,
   "metadata": {},
   "outputs": [],
   "source": [
    "test_images, test_labels = loadlocal_mnist(\n",
    "        images_path='t10k-images.idx3-ubyte', \n",
    "        labels_path='t10k-labels.idx1-ubyte')"
   ]
  },
  {
   "cell_type": "markdown",
   "metadata": {},
   "source": [
    "### Data vizualisation"
   ]
  },
  {
   "cell_type": "code",
   "execution_count": 4,
   "metadata": {},
   "outputs": [
    {
     "data": {
      "image/png": "[encoded data removed]",
      "text/plain": [
       "<Figure size 432x288 with 1 Axes>"
      ]
     },
     "metadata": {
      "needs_background": "light"
     },
     "output_type": "display_data"
    }
   ],
   "source": [
    "plt.imshow(train_images[0].reshape((28, 28)), cmap='gray')\n",
    "plt.show()"
   ]
  },
  {
   "cell_type": "markdown",
   "metadata": {},
   "source": [
    "# Dataset et Dataloader "
   ]
  },
  {
   "cell_type": "code",
   "execution_count": 5,
   "metadata": {},
   "outputs": [],
   "source": [
    "class MonDataset(torch.utils.data.Dataset):\n",
    "    \n",
    "    def __init__(self, x, y):\n",
    "        self.x = torch.from_numpy(x.astype(float)).float()\n",
    "        self.y = torch.from_numpy(y.astype(float)).float()\n",
    "    \n",
    "    def __getitem__(self, index): \n",
    "        return self.x[index], self.y[index] \n",
    "    \n",
    "    def __len__(self):\n",
    "        return len(self.x)"
   ]
  },
  {
   "cell_type": "code",
   "execution_count": 6,
   "metadata": {},
   "outputs": [],
   "source": [
    "dataset = MonDataset(train_images, train_labels)\n",
    "data = torch.utils.data.DataLoader(dataset, \n",
    "                                   shuffle=True , batch_size=50) "
   ]
  },
  {
   "cell_type": "markdown",
   "metadata": {},
   "source": [
    "# Implémentation d'un autoencodeur "
   ]
  },
  {
   "cell_type": "code",
   "execution_count": 29,
   "metadata": {},
   "outputs": [],
   "source": [
    "class Autoencodeur(torch.nn.Module):\n",
    "    \n",
    "    def __init__(self, shape, dim_compression):\n",
    "        super(Autoencodeur, self).__init__()\n",
    "        self.lin1 = torch.nn.Linear(shape, dim_compression)\n",
    "        self.lin2 = torch.nn.Linear(dim_compression, shape)\n",
    "        self.lin2.weight = torch.nn.Parameter(self.lin1.weight.T)\n",
    "    \n",
    "    def forward(self, train_x):\n",
    "        encoder = (self.lin1(train_x))\n",
    "        #encoder = torch.nn.functional.relu(self.lin1(train_x))\n",
    "        decoder = torch.sigmoid(self.lin2(encoder))\n",
    "        return decoder\n",
    "                      "
   ]
  },
  {
   "cell_type": "code",
   "execution_count": 30,
   "metadata": {},
   "outputs": [
    {
     "name": "stdout",
     "output_type": "stream",
     "text": [
      "Epoch  1\n",
      "Epoch  2\n",
      "Epoch  3\n",
      "Epoch  4\n",
      "Epoch  5\n",
      "Epoch  6\n",
      "Epoch  7\n",
      "Epoch  8\n",
      "Epoch  9\n",
      "Epoch  10\n",
      "Epoch  11\n",
      "Epoch  12\n",
      "Epoch  13\n",
      "Epoch  14\n",
      "Epoch  15\n",
      "Epoch  16\n",
      "Epoch  17\n",
      "Epoch  18\n",
      "Epoch  19\n",
      "Epoch  20\n",
      "Epoch  21\n",
      "Epoch  22\n",
      "Epoch  23\n",
      "Epoch  24\n",
      "Epoch  25\n",
      "Epoch  26\n",
      "Epoch  27\n",
      "Epoch  28\n",
      "Epoch  29\n",
      "Epoch  30\n"
     ]
    }
   ],
   "source": [
    "nb_epoch = 30\n",
    "learning_rate=1e-2\n",
    "auto = Autoencodeur(784, 30)\n",
    "\n",
    "writer = SummaryWriter()\n",
    "optim = torch.optim.SGD(params=[auto.lin1.weight, auto.lin1.bias, auto.lin2.bias],lr=learning_rate)\n",
    "optim.zero_grad()\n",
    "loss = torch.nn.BCELoss()\n",
    "# Reinitialisation du gradient\n",
    "n_iter = 0\n",
    "for i in range(nb_epoch):\n",
    "    print('Epoch ',i+1)\n",
    "    for x,y in data: \n",
    "     #   print(torch.max(auto.forward(x)))\n",
    "        n_iter += 1\n",
    "        output = loss(auto.forward(x), x/255) \n",
    "        writer.add_scalar('Loss/train', output, n_iter)\n",
    "        output.backward()\n",
    "        optim.step()\n",
    "        optim.zero_grad()"
   ]
  },
  {
   "cell_type": "markdown",
   "metadata": {},
   "source": [
    "### Visualization of results "
   ]
  },
  {
   "cell_type": "code",
   "execution_count": 32,
   "metadata": {},
   "outputs": [
    {
     "data": {
      "image/png": "[encoded data removed]",
      "text/plain": [
       "<Figure size 432x288 with 1 Axes>"
      ]
     },
     "metadata": {
      "needs_background": "light"
     },
     "output_type": "display_data"
    },
    {
     "data": {
      "image/png": "[encoded data removed]",
      "text/plain": [
       "<Figure size 432x288 with 1 Axes>"
      ]
     },
     "metadata": {
      "needs_background": "light"
     },
     "output_type": "display_data"
    },
    {
     "data": {
      "image/png": "[encoded data removed]",
      "text/plain": [
       "<Figure size 432x288 with 1 Axes>"
      ]
     },
     "metadata": {
      "needs_background": "light"
     },
     "output_type": "display_data"
    },
    {
     "data": {
      "image/png": "[encoded data removed]",
      "text/plain": [
       "<Figure size 432x288 with 1 Axes>"
      ]
     },
     "metadata": {
      "needs_background": "light"
     },
     "output_type": "display_data"
    },
    {
     "data": {
      "image/png": "[encoded data removed]",
      "text/plain": [
       "<Figure size 432x288 with 1 Axes>"
      ]
     },
     "metadata": {
      "needs_background": "light"
     },
     "output_type": "display_data"
    },
    {
     "data": {
      "image/png": "[encoded data removed]",
      "text/plain": [
       "<Figure size 432x288 with 1 Axes>"
      ]
     },
     "metadata": {
      "needs_background": "light"
     },
     "output_type": "display_data"
    },
    {
     "data": {
      "image/png": "[encoded data removed]",
      "text/plain": [
       "<Figure size 432x288 with 1 Axes>"
      ]
     },
     "metadata": {
      "needs_background": "light"
     },
     "output_type": "display_data"
    },
    {
     "data": {
      "image/png": "[encoded data removed]",
      "text/plain": [
       "<Figure size 432x288 with 1 Axes>"
      ]
     },
     "metadata": {
      "needs_background": "light"
     },
     "output_type": "display_data"
    },
    {
     "data": {
      "image/png": "[encoded data removed]",
      "text/plain": [
       "<Figure size 432x288 with 1 Axes>"
      ]
     },
     "metadata": {
      "needs_background": "light"
     },
     "output_type": "display_data"
    },
    {
     "data": {
      "image/png": "[encoded data removed]",
      "text/plain": [
       "<Figure size 432x288 with 1 Axes>"
      ]
     },
     "metadata": {
      "needs_background": "light"
     },
     "output_type": "display_data"
    }
   ],
   "source": [
    "n_vizualize=5\n",
    "\n",
    "i = 0\n",
    "for x,y in data:\n",
    "    xhat = auto.forward(x)\n",
    "    plt.imshow(xhat[0].detach().numpy().reshape((28, 28)), cmap='gray')\n",
    "    plt.show()\n",
    "    plt.imshow(x[0].detach().numpy().reshape((28, 28)), cmap='gray')\n",
    "    plt.show()\n",
    "    \n",
    "    i += 1\n",
    "    if i == 5:\n",
    "        break"
   ]
  },
  {
   "cell_type": "markdown",
   "metadata": {},
   "source": [
    "# GPU, Checkpointing"
   ]
  },
  {
   "cell_type": "code",
   "execution_count": 34,
   "metadata": {},
   "outputs": [],
   "source": [
    "device=torch.device('cuda' if torch.cuda.is_available() else 'cpu')"
   ]
  },
  {
   "cell_type": "code",
   "execution_count": 35,
   "metadata": {},
   "outputs": [],
   "source": [
    "class State:\n",
    "    def __init__(self,model,optim):\n",
    "        self.model=model\n",
    "        self.optim=optim\n",
    "        self.epoch=0\n",
    "        self.iteration=0"
   ]
  },
  {
   "cell_type": "code",
   "execution_count": 37,
   "metadata": {
    "collapsed": true
   },
   "outputs": [
    {
     "data": {
      "text/plain": [
       "['Autoencodeur',\n",
       " 'In',\n",
       " 'MonDataset',\n",
       " 'Out',\n",
       " 'State',\n",
       " 'SummaryWriter',\n",
       " '_',\n",
       " '_36',\n",
       " '__',\n",
       " '___',\n",
       " '__builtin__',\n",
       " '__builtins__',\n",
       " '__doc__',\n",
       " '__loader__',\n",
       " '__name__',\n",
       " '__package__',\n",
       " '__spec__',\n",
       " '_dh',\n",
       " '_i',\n",
       " '_i1',\n",
       " '_i10',\n",
       " '_i11',\n",
       " '_i12',\n",
       " '_i13',\n",
       " '_i14',\n",
       " '_i15',\n",
       " '_i16',\n",
       " '_i17',\n",
       " '_i18',\n",
       " '_i19',\n",
       " '_i2',\n",
       " '_i20',\n",
       " '_i21',\n",
       " '_i22',\n",
       " '_i23',\n",
       " '_i24',\n",
       " '_i25',\n",
       " '_i26',\n",
       " '_i27',\n",
       " '_i28',\n",
       " '_i29',\n",
       " '_i3',\n",
       " '_i30',\n",
       " '_i31',\n",
       " '_i32',\n",
       " '_i33',\n",
       " '_i34',\n",
       " '_i35',\n",
       " '_i36',\n",
       " '_i37',\n",
       " '_i4',\n",
       " '_i5',\n",
       " '_i6',\n",
       " '_i7',\n",
       " '_i8',\n",
       " '_i9',\n",
       " '_ih',\n",
       " '_ii',\n",
       " '_iii',\n",
       " '_oh',\n",
       " 'auto',\n",
       " 'data',\n",
       " 'dataset',\n",
       " 'device',\n",
       " 'exit',\n",
       " 'get_ipython',\n",
       " 'i',\n",
       " 'learning_rate',\n",
       " 'loadlocal_mnist',\n",
       " 'loss',\n",
       " 'n_iter',\n",
       " 'n_vizualize',\n",
       " 'nb_epoch',\n",
       " 'optim',\n",
       " 'output',\n",
       " 'plt',\n",
       " 'prepare_dataset',\n",
       " 'quit',\n",
       " 'test_images',\n",
       " 'test_labels',\n",
       " 'torch',\n",
       " 'torchvision',\n",
       " 'train_images',\n",
       " 'train_labels',\n",
       " 'writer',\n",
       " 'x',\n",
       " 'xhat',\n",
       " 'y']"
      ]
     },
     "execution_count": 37,
     "metadata": {},
     "output_type": "execute_result"
    }
   ],
   "source": []
  },
  {
   "cell_type": "code",
   "execution_count": null,
   "metadata": {},
   "outputs": [],
   "source": [
    "learning_rate=1e-2\n",
    "nb_epochs=100\n",
    "\n",
    "if savepath.is_file():\n",
    "    with savepath.open(\"rb\") as fp:\n",
    "        state=torch.load(fp)\n",
    "else:\n",
    "    autoencoder=Autoencodeur(784, 30)\n",
    "    autoencoder=autoencoder.to(device)\n",
    "    optim=torch.optim.SGD(params=[autoencoder.lin1.weight,autoencoder.lin1.bias,autoencoder.lin2.bias],lr=learning_rate)\n",
    "    state=State(autoencoder,optim)"
   ]
  },
  {
   "cell_type": "code",
   "execution_count": null,
   "metadata": {},
   "outputs": [],
   "source": [
    "for epoch in range(state.epoch,nb_epochs):\n",
    "    for x,y in data:\n",
    "        state.optim.zero_grad()\n",
    "        x=x.to(device)\n",
    "        xhat=autoencoder(x)\n",
    "        l=loss(xhat,x)\n",
    "        l.backward()\n",
    "        state.optim.step()\n",
    "        state.iteration+=1\n",
    "    with savepath.open(\"wb\") as fp:\n",
    "        state.epoch+=1\n",
    "        torch.save(state,fp)"
   ]
  }
 ],
 "metadata": {
  "kernelspec": {
   "display_name": "Python 3",
   "language": "python",
   "name": "python3"
  },
  "language_info": {
   "codemirror_mode": {
    "name": "ipython",
    "version": 3
   },
   "file_extension": ".py",
   "mimetype": "text/x-python",
   "name": "python",
   "nbconvert_exporter": "python",
   "pygments_lexer": "ipython3",
   "version": "3.7.3"
  }
 },
 "nbformat": 4,
 "nbformat_minor": 4
}
